{
 "cells": [
  {
   "cell_type": "code",
   "execution_count": 16,
   "metadata": {},
   "outputs": [
    {
     "name": "stdout",
     "output_type": "stream",
     "text": [
      "_________________________________________________________________\n",
      "Layer (type)                 Output Shape              Param #   \n",
      "=================================================================\n",
      "dense_31 (Dense)             (None, 128)               100480    \n",
      "_________________________________________________________________\n",
      "activation_28 (Activation)   (None, 128)               0         \n",
      "_________________________________________________________________\n",
      "dropout_19 (Dropout)         (None, 128)               0         \n",
      "_________________________________________________________________\n",
      "dense_32 (Dense)             (None, 128)               16512     \n",
      "_________________________________________________________________\n",
      "activation_29 (Activation)   (None, 128)               0         \n",
      "_________________________________________________________________\n",
      "dropout_20 (Dropout)         (None, 128)               0         \n",
      "_________________________________________________________________\n",
      "dense_33 (Dense)             (None, 10)                1290      \n",
      "_________________________________________________________________\n",
      "activation_30 (Activation)   (None, 10)                0         \n",
      "=================================================================\n",
      "Total params: 118,282\n",
      "Trainable params: 118,282\n",
      "Non-trainable params: 0\n",
      "_________________________________________________________________\n",
      "Train on 48000 samples, validate on 12000 samples\n",
      "Epoch 1/20\n",
      "48000/48000 [==============================] - 4s 79us/step - loss: 0.9879 - acc: 0.8334 - val_loss: 0.3901 - val_acc: 0.9328\n",
      "Epoch 2/20\n",
      "48000/48000 [==============================] - 3s 66us/step - loss: 0.4251 - acc: 0.9128 - val_loss: 0.3033 - val_acc: 0.9458\n",
      "Epoch 3/20\n",
      "48000/48000 [==============================] - 3s 61us/step - loss: 0.3726 - acc: 0.9250 - val_loss: 0.2797 - val_acc: 0.9545\n",
      "Epoch 4/20\n",
      "48000/48000 [==============================] - 3s 65us/step - loss: 0.3521 - acc: 0.9307 - val_loss: 0.2655 - val_acc: 0.9574\n",
      "Epoch 5/20\n",
      "48000/48000 [==============================] - 3s 65us/step - loss: 0.3313 - acc: 0.9361 - val_loss: 0.2549 - val_acc: 0.9594\n",
      "Epoch 6/20\n",
      "48000/48000 [==============================] - 3s 69us/step - loss: 0.3299 - acc: 0.9360 - val_loss: 0.2480 - val_acc: 0.9620\n",
      "Epoch 7/20\n",
      "48000/48000 [==============================] - 3s 71us/step - loss: 0.3190 - acc: 0.9397 - val_loss: 0.2396 - val_acc: 0.9622\n",
      "Epoch 8/20\n",
      "48000/48000 [==============================] - 3s 53us/step - loss: 0.3122 - acc: 0.9407 - val_loss: 0.2439 - val_acc: 0.9636\n",
      "Epoch 9/20\n",
      "48000/48000 [==============================] - 2s 51us/step - loss: 0.3091 - acc: 0.9420 - val_loss: 0.2436 - val_acc: 0.9634\n",
      "Epoch 10/20\n",
      "48000/48000 [==============================] - 3s 52us/step - loss: 0.3120 - acc: 0.9420 - val_loss: 0.2299 - val_acc: 0.9686\n",
      "Epoch 11/20\n",
      "48000/48000 [==============================] - 3s 55us/step - loss: 0.3048 - acc: 0.9432 - val_loss: 0.2328 - val_acc: 0.9660\n",
      "Epoch 12/20\n",
      "48000/48000 [==============================] - 3s 54us/step - loss: 0.3034 - acc: 0.9445 - val_loss: 0.2477 - val_acc: 0.9625\n",
      "Epoch 13/20\n",
      "48000/48000 [==============================] - 2s 50us/step - loss: 0.3006 - acc: 0.9448 - val_loss: 0.2491 - val_acc: 0.9629\n",
      "Epoch 14/20\n",
      "48000/48000 [==============================] - 3s 67us/step - loss: 0.2995 - acc: 0.9454 - val_loss: 0.2313 - val_acc: 0.9656\n",
      "Epoch 15/20\n",
      "48000/48000 [==============================] - 2s 51us/step - loss: 0.2951 - acc: 0.9458 - val_loss: 0.2182 - val_acc: 0.9700\n",
      "Epoch 16/20\n",
      "48000/48000 [==============================] - 2s 52us/step - loss: 0.2971 - acc: 0.9442 - val_loss: 0.2349 - val_acc: 0.9642\n",
      "Epoch 17/20\n",
      "48000/48000 [==============================] - 3s 53us/step - loss: 0.2858 - acc: 0.9476 - val_loss: 0.2226 - val_acc: 0.9673\n",
      "Epoch 18/20\n",
      "48000/48000 [==============================] - 3s 55us/step - loss: 0.2891 - acc: 0.9462 - val_loss: 0.2301 - val_acc: 0.9663\n",
      "Epoch 19/20\n",
      "48000/48000 [==============================] - 3s 57us/step - loss: 0.2841 - acc: 0.9489 - val_loss: 0.2284 - val_acc: 0.9687\n",
      "Epoch 20/20\n",
      "48000/48000 [==============================] - 2s 51us/step - loss: 0.2924 - acc: 0.9461 - val_loss: 0.2372 - val_acc: 0.9655\n",
      "10000/10000 [==============================] - 0s 42us/step\n",
      "Test score: 0.23479644174575806\n",
      "Test accuracy: 0.967\n"
     ]
    }
   ],
   "source": [
    "from __future__ import print_function\n",
    "import numpy as np\n",
    "from keras.datasets import mnist\n",
    "from keras.models import Sequential\n",
    "from keras.layers.core import Dense, Dropout, Activation\n",
    "from keras.optimizers import Adam\n",
    "from keras.utils import np_utils\n",
    "from keras import regularizers \n",
    "from keras.models import load_model\n",
    "np.random.seed(1671) # for reproducibility\n",
    "# network and training\n",
    "NB_EPOCH = 20\n",
    "BATCH_SIZE = 128\n",
    "VERBOSE = 1\n",
    "NB_CLASSES = 10 # number of outputs = number of digits\n",
    "OPTIMIZER = Adam() # optimizer, explained later in this chapter\n",
    "N_HIDDEN = 128\n",
    "VALIDATION_SPLIT=0.2 # how much TRAIN is reserved for VALIDATION\n",
    "DROPOUT = 0.3\n",
    "# data: shuffled and split between train and test sets\n",
    "(X_train, y_train), (X_test, y_test) = mnist.load_data()\n",
    "#X_train is 60000 rows of 28x28 values --> reshaped in 60000 x 784\n",
    "RESHAPED = 784\n",
    "#\n",
    "X_train = X_train.reshape(60000, RESHAPED)\n",
    "X_test = X_test.reshape(10000, RESHAPED)\n",
    "X_train = X_train.astype('float32')\n",
    "X_test = X_test.astype('float32')\n",
    "# normalize\n",
    "X_train /= 255\n",
    "X_test /= 255\n",
    "# convert class vectors to binary class matrices\n",
    "Y_train = np_utils.to_categorical(y_train, NB_CLASSES)\n",
    "Y_test = np_utils.to_categorical(y_test, NB_CLASSES)\n",
    "# M_HIDDEN hidden layers 10 outputs\n",
    "\n",
    "model = Sequential()\n",
    "\n",
    "#model.add(Dense(N_HIDDEN, input_shape=(RESHAPED,)))\n",
    "model.add(Dense(N_HIDDEN, input_dim=RESHAPED, kernel_regularizer=regularizers.l2(0.01)))\n",
    "model.add(Activation('relu'))\n",
    "model.add(Dropout(DROPOUT))\n",
    "model.add(Dense(N_HIDDEN))\n",
    "model.add(Activation('relu'))\n",
    "model.add(Dropout(DROPOUT))\n",
    "model.add(Dense(NB_CLASSES))\n",
    "model.add(Activation('softmax'))\n",
    "model.summary()\n",
    " \n",
    "model.compile(loss='categorical_crossentropy',\n",
    "optimizer=OPTIMIZER,\n",
    "metrics=['accuracy'])\n",
    "history = model.fit(X_train, Y_train,\n",
    "batch_size=BATCH_SIZE, epochs=NB_EPOCH,\n",
    "verbose=VERBOSE, validation_split=VALIDATION_SPLIT)\n",
    "score = model.evaluate(X_test, Y_test, verbose=VERBOSE)\n",
    "print(\"Test score:\", score[0])\n",
    "print('Test accuracy:', score[1])"
   ]
  },
  {
   "cell_type": "code",
   "execution_count": 17,
   "metadata": {},
   "outputs": [
    {
     "name": "stdout",
     "output_type": "stream",
     "text": [
      "10000/10000 [==============================] - 0s 45us/step\n",
      "Test score: 0.23479644174575806\n",
      "Test accuracy: 0.967\n"
     ]
    }
   ],
   "source": [
    "score = model.evaluate(X_test, Y_test, verbose=VERBOSE)\n",
    "print(\"Test score:\", score[0])\n",
    "print('Test accuracy:', score[1])"
   ]
  },
  {
   "cell_type": "code",
   "execution_count": 34,
   "metadata": {},
   "outputs": [
    {
     "data": {
      "text/plain": [
       "array([7, 2, 1, ..., 4, 5, 6])"
      ]
     },
     "execution_count": 34,
     "metadata": {},
     "output_type": "execute_result"
    }
   ],
   "source": [
    "predictions = model.predict(X_test)\n",
    "model.predict_proba(X_test)[0]\n",
    "model.predict_classes(X_test)"
   ]
  },
  {
   "cell_type": "code",
   "execution_count": 36,
   "metadata": {},
   "outputs": [],
   "source": [
    "model.save('my_model.h5')\n",
    "# creates a HDF5 file 'my_model.h5' del model\n",
    "# deletes the existing model\n",
    "# returns a compiled model\n",
    "# identical to the previous one model = load_model('my_model.h5')"
   ]
  }
 ],
 "metadata": {
  "kernelspec": {
   "display_name": "Python 3",
   "language": "python",
   "name": "python3"
  },
  "language_info": {
   "codemirror_mode": {
    "name": "ipython",
    "version": 3
   },
   "file_extension": ".py",
   "mimetype": "text/x-python",
   "name": "python",
   "nbconvert_exporter": "python",
   "pygments_lexer": "ipython3",
   "version": "3.6.5"
  }
 },
 "nbformat": 4,
 "nbformat_minor": 2
}
