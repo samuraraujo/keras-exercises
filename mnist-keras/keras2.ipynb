{
 "cells": [
  {
   "cell_type": "code",
   "execution_count": 5,
   "metadata": {},
   "outputs": [
    {
     "name": "stdout",
     "output_type": "stream",
     "text": [
      "60000 train samples\n",
      "10000 test samples\n",
      "_________________________________________________________________\n",
      "Layer (type)                 Output Shape              Param #   \n",
      "=================================================================\n",
      "dense_7 (Dense)              (None, 128)               100480    \n",
      "_________________________________________________________________\n",
      "activation_7 (Activation)    (None, 128)               0         \n",
      "_________________________________________________________________\n",
      "dense_8 (Dense)              (None, 128)               16512     \n",
      "_________________________________________________________________\n",
      "activation_8 (Activation)    (None, 128)               0         \n",
      "_________________________________________________________________\n",
      "dense_9 (Dense)              (None, 10)                1290      \n",
      "_________________________________________________________________\n",
      "activation_9 (Activation)    (None, 10)                0         \n",
      "=================================================================\n",
      "Total params: 118,282\n",
      "Trainable params: 118,282\n",
      "Non-trainable params: 0\n",
      "_________________________________________________________________\n",
      "Train on 48000 samples, validate on 12000 samples\n",
      "Epoch 1/20\n",
      "48000/48000 [==============================] - 5s 101us/step - loss: 0.3491 - acc: 0.8984 - val_loss: 0.1784 - val_acc: 0.9488\n",
      "Epoch 2/20\n",
      "48000/48000 [==============================] - 4s 93us/step - loss: 0.1568 - acc: 0.9539 - val_loss: 0.1364 - val_acc: 0.9598\n",
      "Epoch 3/20\n",
      "48000/48000 [==============================] - 5s 109us/step - loss: 0.1108 - acc: 0.9662 - val_loss: 0.1076 - val_acc: 0.9693\n",
      "Epoch 4/20\n",
      "48000/48000 [==============================] - 5s 105us/step - loss: 0.0863 - acc: 0.9739 - val_loss: 0.1043 - val_acc: 0.9684\n",
      "Epoch 5/20\n",
      "48000/48000 [==============================] - 6s 116us/step - loss: 0.0708 - acc: 0.9788 - val_loss: 0.0931 - val_acc: 0.9713\n",
      "Epoch 6/20\n",
      "48000/48000 [==============================] - 2s 34us/step - loss: 0.0578 - acc: 0.9825 - val_loss: 0.0967 - val_acc: 0.9733\n",
      "Epoch 7/20\n",
      "48000/48000 [==============================] - 2s 37us/step - loss: 0.0476 - acc: 0.9854 - val_loss: 0.0953 - val_acc: 0.9727\n",
      "Epoch 8/20\n",
      "48000/48000 [==============================] - 2s 35us/step - loss: 0.0394 - acc: 0.9881 - val_loss: 0.1026 - val_acc: 0.9730\n",
      "Epoch 9/20\n",
      "48000/48000 [==============================] - 2s 34us/step - loss: 0.0326 - acc: 0.9896 - val_loss: 0.0926 - val_acc: 0.9756\n",
      "Epoch 10/20\n",
      "48000/48000 [==============================] - 2s 36us/step - loss: 0.0269 - acc: 0.9914 - val_loss: 0.1011 - val_acc: 0.9749\n",
      "Epoch 11/20\n",
      "48000/48000 [==============================] - 2s 43us/step - loss: 0.0224 - acc: 0.9933 - val_loss: 0.1033 - val_acc: 0.9758\n",
      "Epoch 12/20\n",
      "48000/48000 [==============================] - 4s 87us/step - loss: 0.0194 - acc: 0.9939 - val_loss: 0.1017 - val_acc: 0.9760\n",
      "Epoch 13/20\n",
      "48000/48000 [==============================] - 5s 101us/step - loss: 0.0169 - acc: 0.9942 - val_loss: 0.1155 - val_acc: 0.9740\n",
      "Epoch 14/20\n",
      "48000/48000 [==============================] - 5s 103us/step - loss: 0.0145 - acc: 0.9954 - val_loss: 0.1257 - val_acc: 0.9713\n",
      "Epoch 15/20\n",
      "48000/48000 [==============================] - 5s 108us/step - loss: 0.0132 - acc: 0.9953 - val_loss: 0.1201 - val_acc: 0.9748\n",
      "Epoch 16/20\n",
      "48000/48000 [==============================] - 5s 114us/step - loss: 0.0112 - acc: 0.9964 - val_loss: 0.1300 - val_acc: 0.9747\n",
      "Epoch 17/20\n",
      "48000/48000 [==============================] - 5s 113us/step - loss: 0.0107 - acc: 0.9962 - val_loss: 0.1254 - val_acc: 0.9758\n",
      "Epoch 18/20\n",
      "48000/48000 [==============================] - 5s 112us/step - loss: 0.0084 - acc: 0.9969 - val_loss: 0.1211 - val_acc: 0.9776\n",
      "Epoch 19/20\n",
      "48000/48000 [==============================] - 5s 108us/step - loss: 0.0085 - acc: 0.9972 - val_loss: 0.1302 - val_acc: 0.9758\n",
      "Epoch 20/20\n",
      "48000/48000 [==============================] - 5s 106us/step - loss: 0.0074 - acc: 0.9979 - val_loss: 0.1331 - val_acc: 0.9773\n",
      "10000/10000 [==============================] - 1s 145us/step\n",
      "Test score: 0.11582271088751073\n",
      "Test accuracy: 0.9782\n"
     ]
    }
   ],
   "source": [
    "from __future__ import print_function\n",
    "import os\n",
    "os.environ[\"CUDA_DEVICE_ORDER\"]=\"PCI_BUS_ID\";\n",
    " \n",
    "# The GPU id to use, usually either \"0\" or \"1\";\n",
    "os.environ[\"CUDA_VISIBLE_DEVICES\"]=\"0\";  \n",
    "import numpy as np\n",
    "from keras.datasets import mnist\n",
    "from keras.models import Sequential\n",
    "from keras.layers.core import Dense, Activation\n",
    "from keras.optimizers import RMSprop\n",
    "from keras.utils import np_utils\n",
    "np.random.seed(1671) # for reproducibility\n",
    "# network and training\n",
    "NB_EPOCH = 20\n",
    "BATCH_SIZE = 128\n",
    "VERBOSE = 1\n",
    "NB_CLASSES = 10 # number of outputs = number of digits\n",
    "OPTIMIZER = RMSprop() # optimizer, explained later in this chapter\n",
    "N_HIDDEN = 128\n",
    "VALIDATION_SPLIT=0.2 # how much TRAIN is reserved for VALIDATION\n",
    "# data: shuffled and split between train and test sets\n",
    "(X_train, y_train), (X_test, y_test) = mnist.load_data()\n",
    "#X_train is 60000 rows of 28x28 values --> reshaped in 60000 x 784\n",
    "RESHAPED = 784\n",
    "#\n",
    "X_train = X_train.reshape(60000, RESHAPED)\n",
    "X_test = X_test.reshape(10000, RESHAPED)\n",
    "X_train = X_train.astype('float32')\n",
    "X_test = X_test.astype('float32')\n",
    "# normalize\n",
    "X_train /= 255\n",
    "X_test /= 255\n",
    "print(X_train.shape[0], 'train samples')\n",
    "print(X_test.shape[0], 'test samples')\n",
    "# convert class vectors to binary class matrices\n",
    "Y_train = np_utils.to_categorical(y_train, NB_CLASSES)\n",
    "Y_test = np_utils.to_categorical(y_test, NB_CLASSES)\n",
    "# M_HIDDEN hidden layers\n",
    "# 10 outputs\n",
    "# final stage is softmax\n",
    "\n",
    "model = Sequential()\n",
    "model.add(Dense(N_HIDDEN, input_shape=(RESHAPED,)))\n",
    "model.add(Activation('relu'))\n",
    "model.add(Dense(N_HIDDEN))\n",
    "model.add(Activation('relu'))\n",
    "model.add(Dense(NB_CLASSES))\n",
    "model.add(Activation('softmax'))\n",
    "\n",
    "model.summary()\n",
    "model.compile(loss='categorical_crossentropy',\n",
    "optimizer=OPTIMIZER,\n",
    "metrics=['accuracy'])\n",
    "history = model.fit(X_train, Y_train,\n",
    "batch_size=BATCH_SIZE, epochs=NB_EPOCH,\n",
    "verbose=VERBOSE, validation_split=VALIDATION_SPLIT)\n",
    "score = model.evaluate(X_test, Y_test, verbose=VERBOSE)\n",
    "print(\"Test score:\", score[0])\n",
    "print('Test accuracy:', score[1])"
   ]
  },
  {
   "cell_type": "code",
   "execution_count": 2,
   "metadata": {},
   "outputs": [
    {
     "name": "stdout",
     "output_type": "stream",
     "text": [
      "[name: \"/device:CPU:0\"\n",
      "device_type: \"CPU\"\n",
      "memory_limit: 268435456\n",
      "locality {\n",
      "}\n",
      "incarnation: 14852953895204515178\n",
      "]\n"
     ]
    }
   ],
   "source": [
    "from tensorflow.python.client import device_lib\n",
    "print(device_lib.list_local_devices())"
   ]
  },
  {
   "cell_type": "code",
   "execution_count": 6,
   "metadata": {},
   "outputs": [
    {
     "name": "stdout",
     "output_type": "stream",
     "text": [
      "10000/10000 [==============================] - 1s 114us/step\n",
      "Test score: 0.11582271088751073\n",
      "Test accuracy: 0.9782\n"
     ]
    }
   ],
   "source": [
    "score = model.evaluate(X_test, Y_test, verbose=VERBOSE)\n",
    "print(\"Test score:\", score[0])\n",
    "print('Test accuracy:', score[1])"
   ]
  }
 ],
 "metadata": {
  "kernelspec": {
   "display_name": "Python 3",
   "language": "python",
   "name": "python3"
  },
  "language_info": {
   "codemirror_mode": {
    "name": "ipython",
    "version": 3
   },
   "file_extension": ".py",
   "mimetype": "text/x-python",
   "name": "python",
   "nbconvert_exporter": "python",
   "pygments_lexer": "ipython3",
   "version": "3.6.5"
  }
 },
 "nbformat": 4,
 "nbformat_minor": 2
}
